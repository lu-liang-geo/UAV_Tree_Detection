{
  "cells": [
    {
      "cell_type": "code",
      "execution_count": null,
      "metadata": {
        "id": "sa5OtMFuhrPY"
      },
      "outputs": [],
      "source": [
        "# Copyright (c) 2023 William Locke\n",
        "\n",
        "# This source code is licensed under the license found in the\n",
        "# LICENSE file in the root directory of this source tree."
      ]
    },
    {
      "cell_type": "markdown",
      "metadata": {},
      "source": [
        "This notebook is intended to be run in Google Colab with access to corresponding Google Drive files. If running locally or on another service, change import and install code accordingly.\n",
        "\n",
        "[![Open In Colab](https://colab.research.google.com/assets/colab-badge.svg)](https://colab.research.google.com/github/lu-liang-geo/UAV_Tree_Detection/blob/main/notebooks/Train_Box_Decoder.ipynb)"
      ]
    },
    {
      "cell_type": "code",
      "execution_count": null,
      "metadata": {
        "id": "boMfHlGRGbRS"
      },
      "outputs": [],
      "source": [
        "from google.colab import drive\n",
        "drive.mount('/content/drive')"
      ]
    },
    {
      "cell_type": "code",
      "execution_count": null,
      "metadata": {
        "id": "PszhVnsIrhbg"
      },
      "outputs": [],
      "source": [
        "%%capture\n",
        "!pip install rasterio\n",
        "!pip install supervision"
      ]
    },
    {
      "cell_type": "code",
      "execution_count": null,
      "metadata": {
        "id": "YReRVjjklXOB"
      },
      "outputs": [],
      "source": [
        "#@title Copy personal SAM (can restart here for testing changes)\n",
        "\n",
        "%cd /content\n",
        "import os\n",
        "if os.path.exists('/content/segment-anything'):\n",
        "  !rm -r /content/segment-anything\n",
        "!git clone https://github.com/lu-liang-geo/UAV_Tree_Detection.git\n",
        "%cd /content/segment-anything\n",
        "!pip install -q .\n",
        "%cd /content"
      ]
    },
    {
      "cell_type": "code",
      "execution_count": null,
      "metadata": {
        "id": "pmive_q4Jfiu"
      },
      "outputs": [],
      "source": [
        "#@title Fixes an occasional bug upon restarting runtime\n",
        "\n",
        "import locale\n",
        "def getpreferredencoding(do_setlocale = True):\n",
        "    return \"UTF-8\"\n",
        "locale.getpreferredencoding = getpreferredencoding"
      ]
    },
    {
      "cell_type": "code",
      "execution_count": null,
      "metadata": {
        "id": "jY0gpSIPJlTu"
      },
      "outputs": [],
      "source": [
        "#@title Import Modules\n",
        "%cd /content\n",
        "from segment_and_detect_anything import NEONTreeDataset, VectorDataset, train_one_epoch\n",
        "from segment_and_detect_anything.detr import HungarianMatcher, SetCriterion\n",
        "from segment_and_detect_anything.detr import misc as utils\n",
        "from segment_and_detect_anything.modeling import BoxDecoder, TwoWayTransformer\n",
        "import os\n",
        "import cv2\n",
        "import numpy as np\n",
        "import matplotlib.pyplot as plt\n",
        "import supervision as sv\n",
        "import rasterio\n",
        "import torch\n",
        "from torch.utils.data import DataLoader\n",
        "from PIL import Image\n",
        "import xml.etree.ElementTree as ET"
      ]
    },
    {
      "cell_type": "code",
      "execution_count": null,
      "metadata": {
        "id": "aCAeMkxlGuvl"
      },
      "outputs": [],
      "source": [
        "# Preprocessed data used for VectorDataset\n",
        "vector_path = '/content/drive/MyDrive/UAV/Data/NEONTreeEvaluation/Evaluation/Image Vectors'\n",
        "ann_cxcywh_path = '/content/drive/MyDrive/UAV/Data/NEONTreeEvaluation/Evaluation/Annotations'\n",
        "prompt_path = '/content/drive/MyDrive/UAV/Data/NEONTreeEvaluation/Evaluation/Prompts'"
      ]
    },
    {
      "cell_type": "code",
      "execution_count": null,
      "metadata": {
        "id": "Uoaao3qq46P2"
      },
      "outputs": [],
      "source": [
        "vector_ds = VectorDataset(image_path=vector_path, prompt_path=prompt_path, ann_path=ann_cxcywh_path)\n",
        "vector_dl = DataLoader(vector_ds, batch_size=2, shuffle=False, collate_fn=utils.vector_collate_fn)"
      ]
    },
    {
      "cell_type": "code",
      "execution_count": null,
      "metadata": {
        "id": "8GTCAKw6SVWw"
      },
      "outputs": [],
      "source": [
        "# The first time running through the Dataset (or Dataloader) takes about 5 minutes; subsequent runs\n",
        "# take about 5 seconds. I do the first runthrough here so as not to affect training time.\n",
        "for vector in vector_ds:\n",
        "  pass"
      ]
    },
    {
      "cell_type": "code",
      "execution_count": null,
      "metadata": {
        "id": "DT5HgSvZk0lx"
      },
      "outputs": [],
      "source": [
        "device = torch.device('cuda' if torch.cuda.is_available() else 'cpu')\n",
        "\n",
        "box_decoder = BoxDecoder(\n",
        "    transformer = TwoWayTransformer(\n",
        "        depth=2,\n",
        "        embedding_dim=256,\n",
        "        mlp_dim=2048,\n",
        "        num_heads=8\n",
        "    ),\n",
        "    transformer_dim = 256,\n",
        "    num_boxes = 200\n",
        ")\n",
        "\n",
        "matcher = HungarianMatcher(cost_class=0)\n",
        "\n",
        "criterion = SetCriterion(num_classes=1,\n",
        "                         matcher=matcher,\n",
        "                         weight_dict={'loss_ce':1, 'cardinality':0, 'loss_bbox':1, 'loss_giou':1},\n",
        "                         eos_coef=1,\n",
        "                         losses=['labels','cardinality','boxes'])\n",
        "\n",
        "optimizer = torch.optim.AdamW(box_decoder.parameters())\n",
        "\n",
        "utils.model_size(box_decoder)"
      ]
    },
    {
      "cell_type": "code",
      "execution_count": null,
      "metadata": {
        "id": "79H-JeWz7Vnb"
      },
      "outputs": [],
      "source": [
        "box_decoder.train()\n",
        "criterion.train()\n",
        "metric_logger = utils.MetricLogger(delimiter=\"  \")\n",
        "metric_logger.add_meter('lr', utils.SmoothedValue(window_size=1, fmt='{value:.6f}'))\n",
        "metric_logger.add_meter('class_error', utils.SmoothedValue(window_size=1, fmt='{value:.2f}'))\n",
        "header = 'Epoch: [0]'\n",
        "print_freq = 10\n",
        "\n",
        "batch = next(iter(vector_dl))\n",
        "batch_outputs = []\n",
        "for vector in batch:\n",
        "    rgb_vector = vector.get('rgb', torch.empty(0))\n",
        "    multi_vector = vector.get('multi', torch.empty(0))\n",
        "    image_vector = torch.cat((rgb_vector, multi_vector), dim=1).to(device)\n",
        "    if image_vector.numel()==0:\n",
        "        raise ValueError('Either RGB or Multi vector must be provided to model, but both are empty.')\n",
        "    sparse_prompt = vector['prompt']['sparse'].to(device)\n",
        "    position_prompt = vector['prompt']['position'].to(device)\n",
        "\n",
        "    outputs = box_decoder(image_vector,\n",
        "                      position_prompt,\n",
        "                      sparse_prompt)\n",
        "    batch_outputs.append(outputs)\n",
        "\n",
        "preds = {k : torch.cat([output[k] for output in batch_outputs]) for k in ['pred_boxes', 'pred_logits']}\n",
        "targets = [vector['annotation'] for vector in batch]\n",
        "loss_dict = criterion(preds, targets)"
      ]
    },
    {
      "cell_type": "code",
      "execution_count": null,
      "metadata": {
        "id": "Au6hSrs09V16"
      },
      "outputs": [],
      "source": [
        "loss_dict"
      ]
    },
    {
      "cell_type": "code",
      "execution_count": null,
      "metadata": {
        "id": "4tIPJXeaRKUC"
      },
      "outputs": [],
      "source": [
        "metrics = train_one_epoch(box_decoder, criterion, vector_dl, optimizer, device, epoch=1)"
      ]
    },
    {
      "cell_type": "code",
      "execution_count": null,
      "metadata": {
        "id": "bNI6Oqf1Yu9w"
      },
      "outputs": [],
      "source": [
        "# Save the first epoch's metrics.\n",
        "model_folder = '/content/drive/MyDrive/UAV/Models'\n",
        "model_name = '???'\n",
        "with open(os.path.join(model_folder, 'Logs', f'{model_name}.txt'), 'a') as f:\n",
        "  f.write(f'Epoch {i}\\n')\n",
        "  for k, v in metrics.items():\n",
        "    f.write(f'{k:<30} {v:.10}\\n')\n",
        "  f.write('\\n')"
      ]
    },
    {
      "cell_type": "code",
      "execution_count": null,
      "metadata": {
        "id": "A3vwbkvTysKM"
      },
      "outputs": [],
      "source": [
        "# If first epoch looks promising (model is learning) continue training for num_epochs.\n",
        "# Save metrics at end of each epoch, save model at end of num_epochs.\n",
        "num_epochs = 10\n",
        "for i in range(2,num_epochs+1):\n",
        "  metrics = train_one_epoch(box_decoder, criterion, vector_dl, optimizer, device, epoch=i)\n",
        "  with open(os.path.join(model_folder, 'Logs', f'{model_name}.txt'), 'a') as f:\n",
        "    f.write(f'Epoch {i}\\n')\n",
        "    for k, v in metrics.items():\n",
        "      f.write(f'{k:<30} {v:.10}\\n')\n",
        "    f.write('\\n')\n",
        "\n",
        "torch.save({\n",
        "            'epoch': i,\n",
        "            'box_decoder_state_dict': box_decoder.state_dict(),\n",
        "            'criterion_state_dict': criterion.state_dict(),\n",
        "            'optimizer_state_dict': optimizer.state_dict(),\n",
        "            'metrics': metrics,\n",
        "            }, os.path.join(model_folder, f'{model_name}.pth'))"
      ]
    },
    {
      "cell_type": "code",
      "execution_count": null,
      "metadata": {
        "id": "RfHI3l9ZiHuj"
      },
      "outputs": [],
      "source": [
        "# Save model separately from above if necessary (e.g. if model training did not complete)\n",
        "torch.save({\n",
        "            'epoch': i,\n",
        "            'box_decoder_state_dict': box_decoder.state_dict(),\n",
        "            'criterion_state_dict': criterion.state_dict(),\n",
        "            'optimizer_state_dict': optimizer.state_dict(),\n",
        "            'metrics': metrics,\n",
        "            }, os.path.join(model_folder, f'{model_name}.pth'))"
      ]
    }
  ],
  "metadata": {
    "colab": {
      "machine_shape": "hm",
      "provenance": []
    },
    "kernelspec": {
      "display_name": "Python 3",
      "name": "python3"
    },
    "language_info": {
      "name": "python"
    }
  },
  "nbformat": 4,
  "nbformat_minor": 0
}
