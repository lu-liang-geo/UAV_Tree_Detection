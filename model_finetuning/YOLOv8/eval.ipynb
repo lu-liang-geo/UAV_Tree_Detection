{
 "cells": [
  {
   "cell_type": "code",
   "execution_count": null,
   "metadata": {},
   "outputs": [],
   "source": [
    "'''\n",
    "File: YOLOv8ModelEvaluatorEvaluator.ipynb\n",
    "Author: Ishir Garg (ishirgarg@berkeley.edu)\n",
    "Date: 3/25/24\n",
    "\n",
    "Evaluator for YOLOv8 model\n",
    "'''\n",
    "%matplotlib inline\n",
    "import sys, os\n",
    "sys.path.append(\"../\")\n",
    "sys.path.append(\"../../model_evaluation\")\n",
    "\n",
    "from ModelEvaluator import ModelEvaluator\n",
    "from ultralytics import YOLO\n",
    "import numpy as np\n",
    "import cv2\n",
    "from PIL import Image"
   ]
  },
  {
   "cell_type": "code",
   "execution_count": null,
   "metadata": {},
   "outputs": [],
   "source": [
    "class YOLOv8ModelEvaluator(ModelEvaluator):\n",
    "    def load_model(self):\n",
    "        model = YOLO('./runs/detect/new_model_9c/weights/best.pt')\n",
    "        return model\n",
    "    \n",
    "    def predict_image(self, model, rgb_image) -> dict:\n",
    "        # bgr_image = rgb_image[:,:,::-1]\n",
    "        # result = model([bgr_image])[0]\n",
    "\n",
    "        Image.fromarray(rgb_image).save(\"./temp.png\")\n",
    "        results = model.predict(\"./temp.png\", save=False, imgsz=400, conf=0.0)[0]\n",
    "\n",
    "        return {\n",
    "            \"bboxes\": results.boxes.xyxy.detach().numpy(),\n",
    "            \"scores\": results.boxes.conf.detach().numpy()\n",
    "        }\n",
    "    "
   ]
  },
  {
   "cell_type": "code",
   "execution_count": null,
   "metadata": {},
   "outputs": [],
   "source": [
    "evaluator = YOLOv8ModelEvaluator(\"/Users/ishirgarg/Github/UAV_Playground/NEON/evaluation\", \"/Users/ishirgarg/Github/UAV_Playground/NEON/annotations\")"
   ]
  },
  {
   "cell_type": "code",
   "execution_count": null,
   "metadata": {},
   "outputs": [],
   "source": [
    "detections = evaluator.evaluate_model(confidence_threshold=0.2, iou_threshold=0.4, nms_threshold=0.75, nms_type=\"iomin\")\n",
    "\n",
    "print(detections[\"metrics\"])"
   ]
  },
  {
   "cell_type": "code",
   "execution_count": null,
   "metadata": {},
   "outputs": [],
   "source": [
    "for i in range(evaluator.dataset_len()):\n",
    "    evaluator.plot_image_annotations(i, (4,4))"
   ]
  }
 ],
 "metadata": {
  "kernelspec": {
   "display_name": "Python 3",
   "language": "python",
   "name": "python3"
  },
  "language_info": {
   "codemirror_mode": {
    "name": "ipython",
    "version": 3
   },
   "file_extension": ".py",
   "mimetype": "text/x-python",
   "name": "python",
   "nbconvert_exporter": "python",
   "pygments_lexer": "ipython3",
   "version": "3.9.6"
  }
 },
 "nbformat": 4,
 "nbformat_minor": 2
}
