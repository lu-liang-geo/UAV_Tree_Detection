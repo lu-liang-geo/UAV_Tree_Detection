{
 "cells": [
  {
   "cell_type": "code",
   "execution_count": null,
   "metadata": {},
   "outputs": [],
   "source": [
    "%matplotlib inline\n",
    "\n",
    "import sys\n",
    "sys.path.append(\"../\")\n",
    "sys.path.append(\"../../model_evaluation\")\n",
    "\n",
    "import cv_utils\n",
    "from cv_utils import TreeDetections\n",
    "from PIL import Image\n",
    "\n",
    "from torchvision.models.detection import retinanet_resnet50_fpn_v2, RetinaNet_ResNet50_FPN_V2_Weights\n",
    "from torchvision.models.detection.retinanet import RetinaNetClassificationHead\n",
    "import torch\n",
    "import functools\n",
    "from RGBNeonDataset import RGBNEONTreeDataset\n",
    "from torch.utils.data import DataLoader\n",
    "import numpy as np\n",
    "from ultralytics import YOLO\n",
    "\n",
    "import time"
   ]
  },
  {
   "cell_type": "code",
   "execution_count": null,
   "metadata": {},
   "outputs": [],
   "source": [
    "device = torch.device(\"mps\" if torch.backends.mps.is_available() else \"cuda\" if torch.cuda.is_available() else \"cpu\")\n",
    "\n"
   ]
  },
  {
   "cell_type": "code",
   "execution_count": null,
   "metadata": {},
   "outputs": [],
   "source": [
    "# Load the model.\n",
    "model = YOLO('yolov8n.pt')\n",
    " \n",
    "# Training.\n",
    "results = model.train(\n",
    "   data='/Users/ishirgarg/Github/UAV_Playground/model_finetuning/YOLOv8/config/config.yaml',\n",
    "   imgsz=400,\n",
    "   epochs=2,\n",
    "   batch=8,\n",
    "   optimizer='Adam',\n",
    "   lr0=0.000005,\n",
    "   name='new_model'\n",
    ")"
   ]
  },
  {
   "cell_type": "code",
   "execution_count": null,
   "metadata": {},
   "outputs": [],
   "source": [
    "results = model.predict(\"./config/train/images/img_0.tif\")[0]\n",
    "cv_utils.plot_img_with_annotations(np.array(Image.open(\"./config/train/images/img_0.tif\")), TreeDetections(results.boxes.xyxy.detach().numpy(), results.boxes.conf.detach().numpy()), size=(8, 8))"
   ]
  }
 ],
 "metadata": {
  "kernelspec": {
   "display_name": "Python 3",
   "language": "python",
   "name": "python3"
  },
  "language_info": {
   "codemirror_mode": {
    "name": "ipython",
    "version": 3
   },
   "file_extension": ".py",
   "mimetype": "text/x-python",
   "name": "python",
   "nbconvert_exporter": "python",
   "pygments_lexer": "ipython3",
   "version": "3.9.6"
  }
 },
 "nbformat": 4,
 "nbformat_minor": 2
}
