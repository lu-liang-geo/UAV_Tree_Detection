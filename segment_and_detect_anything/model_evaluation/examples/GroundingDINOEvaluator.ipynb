{
 "cells": [
  {
   "cell_type": "code",
   "execution_count": null,
   "metadata": {},
   "outputs": [],
   "source": [
    "'''\n",
    "File: GroundingDINOEvaluator.ipynb\n",
    "Author: Ishir Garg (ishirgarg@berkeley.edu)\n",
    "Date: 3/18/24\n",
    "\n",
    "Evaluator for GroudingDINO model\n",
    "'''\n",
    "import sys\n",
    "sys.path.append(\"../\")\n",
    "\n",
    "from ModelEvaluator import ModelEvaluator\n",
    "from GroundingDINO.groundingdino.util.inference import Model\n",
    "from GroundingDINO.groundingdino.util.inference import annotate, predict, load_image\n",
    "import numpy as np"
   ]
  },
  {
   "cell_type": "code",
   "execution_count": null,
   "metadata": {},
   "outputs": [],
   "source": [
    "class GroundingDINOModelEvaluator(ModelEvaluator):\n",
    "    def load_model(self):\n",
    "        '''Loads the latest GroundingDINO model'''\n",
    "        GROUNDING_DINO_CONFIG_PATH = \"./GroundingDINO/groundingdino/config/GroundingDINO_SwinB_cfg.py\"\n",
    "        GROUNDING_DINO_CHECKPOINT_PATH = \"./gd_weights/groundingdino_swinb_cogcoor.pth\"\n",
    "        gd_model = Model(model_config_path=GROUNDING_DINO_CONFIG_PATH, model_checkpoint_path=GROUNDING_DINO_CHECKPOINT_PATH, device=self.device)\n",
    "        return gd_model\n",
    "    \n",
    "    def predict_image(self, model, rgb_image) -> dict:\n",
    "        prediction = model.predict_with_classes(\n",
    "        image=rgb_image[:,:,::-1],\n",
    "        classes=[\"tree\"],\n",
    "        box_threshold=0.2,\n",
    "        text_threshold=0)\n",
    "\n",
    "        return {\n",
    "            \"bboxes\": prediction.xyxy,\n",
    "            \"scores\": prediction.confidence\n",
    "        }\n",
    "    "
   ]
  },
  {
   "cell_type": "code",
   "execution_count": null,
   "metadata": {},
   "outputs": [],
   "source": [
    "evaluator = GroundingDINOModelEvaluator(\"/Users/ishirgarg/Github/UAV_Playground/NEON/evaluation\", \"/Users/ishirgarg/Github/UAV_Playground/NEON/annotations\")\n",
    "detections = evaluator.evaluate_model(confidence_threshold=0.2, iou_threshold=0.4)\n",
    "\n",
    "print(detections[\"metrics\"])"
   ]
  },
  {
   "cell_type": "code",
   "execution_count": null,
   "metadata": {},
   "outputs": [],
   "source": [
    "for i in range(evaluator.dataset_len()):\n",
    "    evaluator.plot_image_annotations(i, (4,4))"
   ]
  }
 ],
 "metadata": {
  "kernelspec": {
   "display_name": "Python 3",
   "language": "python",
   "name": "python3"
  },
  "language_info": {
   "codemirror_mode": {
    "name": "ipython",
    "version": 3
   },
   "file_extension": ".py",
   "mimetype": "text/x-python",
   "name": "python",
   "nbconvert_exporter": "python",
   "pygments_lexer": "ipython3",
   "version": "3.9.6"
  }
 },
 "nbformat": 4,
 "nbformat_minor": 2
}
