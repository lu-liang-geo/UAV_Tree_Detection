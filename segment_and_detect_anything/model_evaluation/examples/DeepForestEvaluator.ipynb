{
 "cells": [
  {
   "cell_type": "code",
   "execution_count": null,
   "metadata": {},
   "outputs": [],
   "source": [
    "'''\n",
    "File: DeepForestEvaluator.ipynb\n",
    "Author: Ishir Garg (ishirgarg@berkeley.edu)\n",
    "Date: 3/18/24\n",
    "\n",
    "Evaluator for Deep Forest model\n",
    "'''\n",
    "\n",
    "import sys\n",
    "sys.path.append(\"../\")\n",
    "\n",
    "from ModelEvaluator import ModelEvaluator\n",
    "from deepforest import main as dfmain\n",
    "import numpy as np"
   ]
  },
  {
   "cell_type": "code",
   "execution_count": null,
   "metadata": {},
   "outputs": [],
   "source": [
    "class DeepForestModelEvaluator(ModelEvaluator):\n",
    "    def load_model(self):\n",
    "        '''Loads the latest DeepForest model from the library'''\n",
    "        model = dfmain.deepforest()\n",
    "        model.use_release()\n",
    "        return model\n",
    "    \n",
    "    def predict_image(self, model, rgb_image) -> dict:\n",
    "        raw_detections = model.predict_image(image=rgb_image.astype(\"float32\"))\n",
    "        return {\n",
    "            \"bboxes\": np.array([self._box_prediction_to_xyxy(raw_detections.iloc[i]) for i in range(len(raw_detections))]),\n",
    "            \"scores\": np.array([raw_detections.iloc[i][\"score\"] for i in range(len(raw_detections))])\n",
    "        }\n",
    "    \n",
    "    # IN GENERAL, THIS FUNCTION IS NOT NECESSARY... ITS ONLY A HELPER FOR PROCESSING DEEPFOREST OUTPUTS\n",
    "    def _box_prediction_to_xyxy(self, pred):\n",
    "        '''Converts DeepForest outputs to xyxy format'''\n",
    "        return np.array([int(pred[\"xmin\"]), int(pred[\"ymin\"]), int(pred[\"xmax\"]), int(pred[\"ymax\"])])"
   ]
  },
  {
   "cell_type": "code",
   "execution_count": null,
   "metadata": {},
   "outputs": [],
   "source": [
    "evaluator = DeepForestModelEvaluator(\"/Users/ishirgarg/Github/UAV_Playground/NEON/evaluation\", \"/Users/ishirgarg/Github/UAV_Playground/NEON/annotations\")"
   ]
  },
  {
   "cell_type": "code",
   "execution_count": null,
   "metadata": {},
   "outputs": [],
   "source": [
    "detection = evaluator.evaluate_model(confidence_threshold=0.2, iou_threshold=0.4)\n",
    "\n",
    "print(detection[\"metrics\"])"
   ]
  },
  {
   "cell_type": "code",
   "execution_count": null,
   "metadata": {},
   "outputs": [],
   "source": [
    "for i in range(evaluator.dataset_len()):\n",
    "    evaluator.plot_image_annotations(i, (4,4))"
   ]
  }
 ],
 "metadata": {
  "kernelspec": {
   "display_name": "Python 3",
   "language": "python",
   "name": "python3"
  },
  "language_info": {
   "codemirror_mode": {
    "name": "ipython",
    "version": 3
   },
   "file_extension": ".py",
   "mimetype": "text/x-python",
   "name": "python",
   "nbconvert_exporter": "python",
   "pygments_lexer": "ipython3",
   "version": "3.9.6"
  }
 },
 "nbformat": 4,
 "nbformat_minor": 2
}
