{
 "cells": [
  {
   "cell_type": "code",
   "execution_count": null,
   "metadata": {},
   "outputs": [],
   "source": [
    "'''\n",
    "File: DETRModelEvaluator.ipynb\n",
    "Author: Ishir Garg (ishirgarg@berkeley.edu)\n",
    "Date: 3/18/24\n",
    "\n",
    "Evaluator for DETR model\n",
    "'''\n",
    "import sys\n",
    "sys.path.append(\"../\")\n",
    "\n",
    "from ModelEvaluator import ModelEvaluator\n",
    "import numpy as np\n",
    "import cv_utils\n",
    "import torch\n",
    "from PIL import Image\n",
    "import torchvision.transforms as T\n"
   ]
  },
  {
   "cell_type": "code",
   "execution_count": null,
   "metadata": {},
   "outputs": [],
   "source": [
    "class DeepForestModelEvaluator(ModelEvaluator):\n",
    "    def load_model(self):\n",
    "        '''Loads the latest DeepForest model from the library'''\n",
    "        detr_model = torch.hub.load('facebookresearch/detr:main', 'detr_resnet50', pretrained=True)\n",
    "        detr_model.eval()\n",
    "        return detr_model\n",
    "    \n",
    "    def predict_image(self, model, rgb_image) -> dict:\n",
    "        image = Image.fromarray(rgb_image).convert(\"RGB\")\n",
    "\n",
    "        transform = T.Compose([\n",
    "            T.Resize(800),\n",
    "            T.ToTensor(),\n",
    "            T.Normalize([0.485, 0.456, 0.406], [0.229, 0.224, 0.225])\n",
    "        ])\n",
    "        \n",
    "        image = transform(image).unsqueeze(0)\n",
    "\n",
    "        detection = model(image)\n",
    "        logits = detection[\"pred_logits\"]\n",
    "        bboxes = detection[\"pred_boxes\"]\n",
    "\n",
    "        probabilities = logits.softmax(-1)[0, :, :-1]\n",
    "        rescaled_bboxes = self._rescale_bboxes(bboxes[0], (rgb_image.shape[0], rgb_image.shape[1])).detach().numpy()\n",
    "\n",
    "        return {\n",
    "            \"bboxes\": rescaled_bboxes,\n",
    "            \"scores\": probabilities.max(dim=1)[0].detach().numpy(),\n",
    "        }\n",
    "        \n",
    "    \n",
    "    # IN GENERAL, THIS FUNCTION IS NOT NECESSARY... ITS ONLY A HELPER FOR PROCESSING DETR OUTPUTS\n",
    "    def _rescale_bboxes(self, out_bbox, size):\n",
    "        img_w, img_h = size\n",
    "        b = cv_utils.box_cxcywh_to_xyxy(out_bbox)\n",
    "        b = b * torch.tensor([img_w, img_h, img_w, img_h], dtype=torch.float32)\n",
    "        return b"
   ]
  },
  {
   "cell_type": "code",
   "execution_count": null,
   "metadata": {},
   "outputs": [],
   "source": [
    "evaluator = DeepForestModelEvaluator(\"/Users/ishirgarg/Github/UAV_Playground/NEON/evaluation\", \"/Users/ishirgarg/Github/UAV_Playground/NEON/annotations\")\n",
    "detections = evaluator.evaluate_model(confidence_threshold=0, iou_threshold=0.4)\n",
    "\n",
    "print(detections[\"metrics\"])"
   ]
  },
  {
   "cell_type": "code",
   "execution_count": null,
   "metadata": {},
   "outputs": [],
   "source": [
    "for i in range(evaluator.dataset_len()):\n",
    "    evaluator.plot_image_annotations(i, (4,4))"
   ]
  }
 ],
 "metadata": {
  "kernelspec": {
   "display_name": "Python 3",
   "language": "python",
   "name": "python3"
  },
  "language_info": {
   "codemirror_mode": {
    "name": "ipython",
    "version": 3
   },
   "file_extension": ".py",
   "mimetype": "text/x-python",
   "name": "python",
   "nbconvert_exporter": "python",
   "pygments_lexer": "ipython3",
   "version": "3.9.6"
  }
 },
 "nbformat": 4,
 "nbformat_minor": 2
}
